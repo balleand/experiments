{
 "cells": [
  {
   "cell_type": "markdown",
   "metadata": {},
   "source": [
    "# Description of the problem and the approach taken"
   ]
  },
  {
   "cell_type": "markdown",
   "metadata": {},
   "source": [
    "The problem is inspired from the  tensorflow tutorial:\n",
    "\n",
    "[1] https://www.tensorflow.org/tutorials/generative/cvae  \n",
    "\n",
    "\n",
    "in which the task is to generate images of handwritten digits by training a Variational Autoencoder on the well-known MNIST database. \n",
    "The objective of this worksheet is to modify the notebook so that, instead of generating images from the distribution of the MNIST dataset, it generates rows from the distribution of the US 1990 census\n",
    "\n",
    "http://archive.ics.uci.edu/ml/datasets/US+Census+Data+%281990%29\n",
    "\n",
    "The tutorial worksheet cannot be applied as it is to the US Census Database. The main difference is that in the former the variables are binomial - as they represent a pixel being black or white, whereas in the latter the variables are all categorical, thus having more than two levels. The problem has been studied in literature: the main references are\n",
    "\n",
    "[2] Categorical Reparameterization with Gumbel-Softmax. Eric Jang, Shixiang Gu, Ben Poole \n",
    "https://arxiv.org/abs/1611.01144 \n",
    "\n",
    "and \n",
    "\n",
    "[3] Generating Multi-Categorical Samples with Generative Adversarial Networks. Ramiro Camino, Christian Hammerschmidt, Radu State \n",
    "https://arxiv.org/abs/1807.01202\n",
    "\n",
    "\n",
    "Following these references, the main modifications I applied to [1] are the following: \n",
    "\n",
    "- Adapt the cost function: the penalization term needs to be defined so that it can be applied to categorical variables, while retaining continuity and some smoothness. I followed the ideas in [2] to achieve this using Relaxed One Hot Encoding on categorical variables and using the categorical cross-entropy as loss function in place of ELBO, as done in [3]\n",
    "\n",
    "- adapt the generative step: instead of sampling from a Bernoulli distribution from the latent space, I sampled from the aforementioned Relaxed One Hot Encoding distributions, following [2] .\n"
   ]
  },
  {
   "cell_type": "markdown",
   "metadata": {},
   "source": [
    "# Import libraries"
   ]
  },
  {
   "cell_type": "code",
   "execution_count": 149,
   "metadata": {},
   "outputs": [
    {
     "name": "stdout",
     "output_type": "stream",
     "text": [
      "Requirement already satisfied: seaborn in c:\\users\\user\\anaconda3\\lib\\site-packages (0.9.0)\n",
      "Requirement already satisfied: numpy>=1.9.3 in c:\\users\\user\\anaconda3\\lib\\site-packages (from seaborn) (1.16.5)\n",
      "Requirement already satisfied: scipy>=0.14.0 in c:\\users\\user\\anaconda3\\lib\\site-packages (from seaborn) (1.3.1)\n",
      "Requirement already satisfied: matplotlib>=1.4.3 in c:\\users\\user\\anaconda3\\lib\\site-packages (from seaborn) (3.1.1)\n",
      "Requirement already satisfied: pandas>=0.15.2 in c:\\users\\user\\anaconda3\\lib\\site-packages (from seaborn) (0.25.1)\n",
      "Requirement already satisfied: cycler>=0.10 in c:\\users\\user\\anaconda3\\lib\\site-packages (from matplotlib>=1.4.3->seaborn) (0.10.0)\n",
      "Requirement already satisfied: kiwisolver>=1.0.1 in c:\\users\\user\\anaconda3\\lib\\site-packages (from matplotlib>=1.4.3->seaborn) (1.1.0)\n",
      "Requirement already satisfied: pyparsing!=2.0.4,!=2.1.2,!=2.1.6,>=2.0.1 in c:\\users\\user\\anaconda3\\lib\\site-packages (from matplotlib>=1.4.3->seaborn) (2.4.2)\n",
      "Requirement already satisfied: python-dateutil>=2.1 in c:\\users\\user\\anaconda3\\lib\\site-packages (from matplotlib>=1.4.3->seaborn) (2.8.0)\n",
      "Requirement already satisfied: pytz>=2017.2 in c:\\users\\user\\anaconda3\\lib\\site-packages (from pandas>=0.15.2->seaborn) (2019.3)\n",
      "Requirement already satisfied: six in c:\\users\\user\\anaconda3\\lib\\site-packages (from cycler>=0.10->matplotlib>=1.4.3->seaborn) (1.12.0)\n",
      "Requirement already satisfied: setuptools in c:\\users\\user\\anaconda3\\lib\\site-packages (from kiwisolver>=1.0.1->matplotlib>=1.4.3->seaborn) (41.4.0)\n"
     ]
    }
   ],
   "source": [
    "!pip install seaborn"
   ]
  },
  {
   "cell_type": "code",
   "execution_count": 150,
   "metadata": {},
   "outputs": [],
   "source": [
    "from __future__ import absolute_import, division, print_function, unicode_literals\n",
    "\n",
    "import tensorflow as tf\n",
    "import tensorflow_probability as tfp \n",
    "import os\n",
    "import time\n",
    "import numpy as np\n",
    "import matplotlib.pyplot as plt\n",
    "import pandas as pd\n",
    "import scipy.stats as scs\n",
    "from sklearn.metrics.regression import mean_squared_error\n",
    "from IPython import display\n",
    "from tensorflow.keras import backend as K\n",
    "import seaborn as sns\n",
    "\n",
    "from sklearn.model_selection import train_test_split"
   ]
  },
  {
   "cell_type": "markdown",
   "metadata": {},
   "source": [
    "# read dataset and dummify it"
   ]
  },
  {
   "cell_type": "code",
   "execution_count": 6,
   "metadata": {},
   "outputs": [],
   "source": [
    "df_full=pd.read_csv(\"http://archive.ics.uci.edu/ml/machine-learning-databases/census1990-mld/USCensus1990.data.txt\")"
   ]
  },
  {
   "cell_type": "markdown",
   "metadata": {},
   "source": [
    "For computational reasons, I take only 100.000 records (the training takes forever otherwise)"
   ]
  },
  {
   "cell_type": "code",
   "execution_count": 121,
   "metadata": {},
   "outputs": [],
   "source": [
    "df= df_full.iloc[:,1:11].sample(n=100000, random_state=42)\n",
    "all_variables =df.columns\n",
    "var_levels = list(np.cumsum([len(df[var].unique()) for var in all_variables]))\n",
    "count_all_dummies=var_levels[-1]"
   ]
  },
  {
   "cell_type": "markdown",
   "metadata": {},
   "source": [
    "these are needed for the dummification and de-dummification "
   ]
  },
  {
   "cell_type": "code",
   "execution_count": 122,
   "metadata": {},
   "outputs": [],
   "source": [
    "var_value_list=[sorted(list(df[var].unique())) for var in all_variables]"
   ]
  },
  {
   "cell_type": "code",
   "execution_count": 123,
   "metadata": {},
   "outputs": [],
   "source": [
    "var_levels = [0]+list(var_levels)"
   ]
  },
  {
   "cell_type": "markdown",
   "metadata": {},
   "source": [
    "I one-hot encode the variables which are all categorical"
   ]
  },
  {
   "cell_type": "code",
   "execution_count": 124,
   "metadata": {},
   "outputs": [],
   "source": [
    "def one_hot_enconding(df):\n",
    "    df_encoded= pd.concat([pd.get_dummies(df[var], prefix=var) for var in df.columns], axis=1)\n",
    "    return df_encoded"
   ]
  },
  {
   "cell_type": "code",
   "execution_count": 125,
   "metadata": {},
   "outputs": [],
   "source": [
    "df_dummified =one_hot_enconding(df)"
   ]
  },
  {
   "cell_type": "code",
   "execution_count": 126,
   "metadata": {},
   "outputs": [],
   "source": [
    "BATCH_SIZE = 100"
   ]
  },
  {
   "cell_type": "code",
   "execution_count": 127,
   "metadata": {},
   "outputs": [],
   "source": [
    "train_df, test_df = train_test_split(df_dummified , test_size=0.3, random_state=42)"
   ]
  },
  {
   "cell_type": "code",
   "execution_count": 128,
   "metadata": {
    "scrolled": true
   },
   "outputs": [],
   "source": [
    "train_dataset = tf.data.Dataset.from_tensor_slices(train_df.values).batch(BATCH_SIZE)\n",
    "test_dataset = tf.data.Dataset.from_tensor_slices(test_df.values).batch(BATCH_SIZE)"
   ]
  },
  {
   "cell_type": "markdown",
   "metadata": {},
   "source": [
    "define Tensorflow probability distributions"
   ]
  },
  {
   "cell_type": "code",
   "execution_count": 129,
   "metadata": {},
   "outputs": [],
   "source": [
    "RelaxedOneHotCategorical = tfp.distributions.RelaxedOneHotCategorical\n",
    "KL = tfp.distributions.kl_divergence"
   ]
  },
  {
   "attachments": {
    "image.png": {
     "image/png": "[encoded data removed]"
    }
   },
   "cell_type": "markdown",
   "metadata": {},
   "source": [
    "I follow [2] to define the CatVAE class and the loss function. Note that I did not tune the parameters, for the sake of time. \n",
    "The network architecture resembles the one in the figure ([3]): \n",
    "![image.png](attachment:image.png)"
   ]
  },
  {
   "cell_type": "code",
   "execution_count": 163,
   "metadata": {},
   "outputs": [],
   "source": [
    "# define models for inference and generating over number of categorical \n",
    "# distributions with latent dimension\n",
    "class CatVAE(tf.keras.Model):\n",
    "    def __init__(self, latent_dim, num_dist,count_all_dummies):\n",
    "        super(CatVAE, self).__init__()\n",
    "        \n",
    "        # latent dimensions\n",
    "        self.latent_dim = latent_dim\n",
    "        \n",
    "        # number of distributions to sample from in latent space\n",
    "        self.num_dist = num_dist\n",
    "        \n",
    "        # inference model to estimate the posterior p(z|x)\n",
    "        self.inference_net = tf.keras.Sequential(\n",
    "          [\n",
    "          tf.keras.layers.InputLayer(input_shape=(count_all_dummies,)),\n",
    "          tf.keras.layers.Dense(100, activation=tf.nn.relu),\n",
    "          tf.keras.layers.Dense(50, activation=tf.nn.relu),\n",
    "          # no activation for final layer\n",
    "          tf.keras.layers.Dense(self.latent_dim*self.num_dist),\n",
    "          tf.keras.layers.Reshape((-1, self.num_dist, self.latent_dim))])\n",
    "        \n",
    "        # generative model to estimate the likelihood p(x|z) for samples\n",
    "        self.generative_net = tf.keras.Sequential(\n",
    "          [\n",
    "          tf.keras.layers.InputLayer(input_shape=(self.num_dist, self.latent_dim,)),\n",
    "          tf.keras.layers.Flatten(),\n",
    "          tf.keras.layers.Dense(50, activation=tf.nn.relu),\n",
    "          tf.keras.layers.Dense(100, activation=tf.nn.relu),\n",
    "          # no activation for final layer\n",
    "          tf.keras.layers.Dense(count_all_dummies)])\n",
    "\n",
    "    def encode(self, x):\n",
    "        logits_z = self.inference_net(x)\n",
    "        return logits_z\n",
    "\n",
    "    def reparameterize(self, tau, logits_z):\n",
    "        # generate latent sample using Gumbel-Softmax for categorical variables\n",
    "        z = RelaxedOneHotCategorical(tau,logits_z).sample()\n",
    "        z_hard = tf.cast(tf.one_hot(tf.argmax(z,-1), self.latent_dim), z.dtype)\n",
    "        z = tf.stop_gradient(z_hard - z) + z\n",
    "        return z\n",
    "\n",
    "    def decode(self, z):\n",
    "        logits_x = self.generative_net(z)\n",
    "        return logits_x\n"
   ]
  },
  {
   "cell_type": "code",
   "execution_count": 164,
   "metadata": {},
   "outputs": [],
   "source": [
    "def kl_mod(x, y):\n",
    "    div=0\n",
    "    for i in range(1, len(var_levels)):\n",
    "        X =  x[:,var_levels[i-1]:var_levels[i]]\n",
    "        Y =  y[:,var_levels[i-1]:var_levels[i]]\n",
    "        B= tf.math.divide(X,Y)\n",
    "        div+=tf.reduce_mean(-tf.nn.softmax_cross_entropy_with_logits(X, B))\n",
    "    return div"
   ]
  },
  {
   "cell_type": "code",
   "execution_count": 165,
   "metadata": {},
   "outputs": [],
   "source": [
    "# define categorical vae loss function with hard prior\n",
    "def CatVAE_loss(model, x, tau, var_levels=var_levels):\n",
    "    logits_z = model.encode(x)\n",
    "    z = model.reparameterize(tau, logits_z)\n",
    "    logits_x = model.decode(z)\n",
    "    pred = tf.concat([RelaxedOneHotCategorical(tau, logits=logits_x[:,var_levels[i-1]:var_levels[i]]).sample() for i in range(1,len(var_levels))], axis=1)\n",
    "    KL_qp = kl_mod(tf.cast(x, 'float32'),pred)\n",
    "    KL_qp_sum= tf.reduce_sum(KL_qp)\n",
    "    loss = K.categorical_crossentropy(tf.cast(x, 'float32'), pred, axis=-1)\n",
    "    y = tf.reduce_mean(loss - KL_qp)\n",
    "    return y"
   ]
  },
  {
   "cell_type": "code",
   "execution_count": 166,
   "metadata": {},
   "outputs": [],
   "source": [
    "def compute_apply_gradients(model, x, optimizer,tau):\n",
    "    with tf.GradientTape() as tape:\n",
    "        loss = CatVAE_loss(model, x,tau)\n",
    "        gradients = tape.gradient(loss, model.trainable_variables)\n",
    "        optimizer.apply_gradients(zip(gradients, model.trainable_variables))"
   ]
  },
  {
   "cell_type": "code",
   "execution_count": 167,
   "metadata": {},
   "outputs": [],
   "source": [
    "# define constants for epochs, # of latent dimensions, # of distributions\n",
    "# to sample from in latent space\n",
    "# parameters are not tuned \n",
    "    \n",
    "epochs = 10\n",
    "latent_dim = 15\n",
    "num_dist = 3\n",
    "tau0 = 1.0\n",
    "lr_init = 0.001\n",
    "    \n",
    "tau = tf.Variable(tau0, name = \"temperature\", trainable = True)\n",
    "lr = tf.Variable(lr_init, name = \"learning_rate\", trainable=False)\n",
    "    \n",
    "optimizer = tf.optimizers.Adam(lr)\n",
    "\n",
    "model = CatVAE(latent_dim, num_dist,count_all_dummies)\n",
    "    \n",
    "train_loss_results = []"
   ]
  },
  {
   "cell_type": "code",
   "execution_count": 168,
   "metadata": {},
   "outputs": [
    {
     "name": "stdout",
     "output_type": "stream",
     "text": [
      "Epoch: 10, Test set LOSS: 35.528907775878906, time elapse for current epoch 55.005828857421875\n"
     ]
    }
   ],
   "source": [
    "for epoch in range(1, epochs + 1):\n",
    "    start_time = time.time()\n",
    "    print(\"running Epoch \", epoch)\n",
    "    i=1\n",
    "    for train_x in train_dataset:\n",
    "        compute_apply_gradients(model, train_x, optimizer,tau)\n",
    "    end_time = time.time()\n",
    "\n",
    "    if epoch % 1 == 0:\n",
    "        loss = tf.keras.metrics.Mean()\n",
    "    for test_x in test_dataset:\n",
    "        loss(CatVAE_loss(model, test_x,tau))\n",
    "    elbo = loss.result()\n",
    "    display.clear_output(wait=False)\n",
    "    print('Epoch: {}, Test set LOSS: {}, '\n",
    "          'time elapse for current epoch {}'.format(epoch,\n",
    "                                                    elbo,\n",
    "                                                    end_time - start_time))"
   ]
  },
  {
   "cell_type": "markdown",
   "metadata": {},
   "source": [
    "First we want to assess the predictiveness of the model: here by predictivness we mean the ability to correctly encode and decode the input. We thus compare the reconstruction with the actual observations. "
   ]
  },
  {
   "cell_type": "code",
   "execution_count": 169,
   "metadata": {},
   "outputs": [],
   "source": [
    "preds=pd.DataFrame(columns=test_df.columns).astype(\"int\")\n",
    "for t_x in test_dataset:\n",
    "    logits_z = model.encode(tf.cast(t_x, \"float32\"))\n",
    "    z = model.reparameterize(tau, logits_z)\n",
    "    logits_x = model.decode(z)\n",
    "    t = tf.concat([RelaxedOneHotCategorical(1, logits=logits_x[:,var_levels[i-1]:var_levels[i]]).sample() \n",
    "                       for i in range(1, len(var_levels))], axis=1)\n",
    "    t_o_h = tf.concat([tf.one_hot(tf.argmax(t[:,var_levels[i-1]:var_levels[i]], axis=-1),\n",
    "                           int(var_levels[i]-var_levels[i-1]))\n",
    "                           for i in range(1, len(var_levels))], axis=1)\n",
    "    \n",
    "    preds=preds.append(pd.DataFrame(t_o_h.numpy().astype(\"int\"),columns=test_df.columns))"
   ]
  },
  {
   "cell_type": "code",
   "execution_count": 170,
   "metadata": {},
   "outputs": [],
   "source": [
    "aux=var_levels[:-1]\n",
    "def dedummify(row, aux, var_value_list):\n",
    "    pos=np.where(row==1)[0]\n",
    "    relative_pos= np.subtract(pos,aux)\n",
    "    return list(map( lambda x: var_value_list[x[0]][x[1]], enumerate(relative_pos)))\n",
    "    "
   ]
  },
  {
   "cell_type": "code",
   "execution_count": 171,
   "metadata": {},
   "outputs": [],
   "source": [
    "r = preds.apply(lambda x: dedummify(x,aux, var_value_list), axis=1)\n",
    "preds_dedummified=pd.DataFrame(list(r), columns=all_variables)"
   ]
  },
  {
   "cell_type": "code",
   "execution_count": 172,
   "metadata": {
    "scrolled": true
   },
   "outputs": [],
   "source": [
    "tt = test_df.apply(lambda x: dedummify(x,aux, var_value_list), axis=1)\n",
    "test_dedummified=pd.DataFrame(list(tt), columns=all_variables)"
   ]
  },
  {
   "cell_type": "code",
   "execution_count": 173,
   "metadata": {},
   "outputs": [],
   "source": [
    "from sklearn.metrics import confusion_matrix, accuracy_score, classification_report"
   ]
  },
  {
   "cell_type": "code",
   "execution_count": 174,
   "metadata": {},
   "outputs": [],
   "source": [
    "def get_performance_scores(test,sample):\n",
    "    \n",
    "    for cols in test.columns:\n",
    "        print(cols)\n",
    "        print(classification_report(test[cols],sample[cols]))\n",
    "        conf=confusion_matrix(test[cols],sample[cols])\n",
    "        try:\n",
    "            chi2,pval, _ , _ =scs.chi2_contingency(conf)\n",
    "            print(\"Chi-squared score:\" , chi2)\n",
    "            print(\"p-value:\" , pval, \"\\n\")\n",
    "        except:\n",
    "            print(\"Chi^2 test cannot be performed\")\n",
    "        print(\"confusion matrix: \\n\")\n",
    "        \n",
    "        print(conf)\n",
    "        print(\"\\n\")"
   ]
  },
  {
   "cell_type": "code",
   "execution_count": 176,
   "metadata": {
    "scrolled": true
   },
   "outputs": [
    {
     "name": "stdout",
     "output_type": "stream",
     "text": [
      "dAge\n",
      "              precision    recall  f1-score   support\n",
      "\n",
      "           0       0.75      0.62      0.68       380\n",
      "           1       0.95      0.94      0.94      5372\n",
      "           2       0.61      0.65      0.63      2963\n",
      "           3       0.76      0.77      0.77      4620\n",
      "           4       0.90      0.86      0.88      4869\n",
      "           5       0.75      0.71      0.73      3850\n",
      "           6       0.65      0.72      0.69      4067\n",
      "           7       0.79      0.77      0.78      3879\n",
      "\n",
      "    accuracy                           0.78     30000\n",
      "   macro avg       0.77      0.75      0.76     30000\n",
      "weighted avg       0.79      0.78      0.79     30000\n",
      "\n",
      "Chi-squared score: 118411.85446688335\n",
      "p-value: 0.0 \n",
      "\n",
      "confusion matrix: \n",
      "\n",
      "[[ 237  119   22    0    2    0    0    0]\n",
      " [  71 5030  268    1    1    1    0    0]\n",
      " [   4  168 1932  802   45   10    2    0]\n",
      " [   0    0  875 3544  148   43    6    4]\n",
      " [   4    0   78  229 4168  341   45    4]\n",
      " [   1    0   12   52  258 2730  704   93]\n",
      " [   0    0    2    4   23  437 2930  671]\n",
      " [   0    0    2    1    6   99  799 2972]]\n",
      "\n",
      "\n",
      "dAncstry1\n",
      "              precision    recall  f1-score   support\n",
      "\n",
      "           0       0.50      0.50      0.50      2826\n",
      "           1       0.70      0.55      0.62     16211\n",
      "           2       0.24      0.27      0.26      1802\n",
      "           3       0.39      0.40      0.40      2316\n",
      "           4       0.02      0.02      0.02       104\n",
      "           5       0.00      0.00      0.00        16\n",
      "           6       0.03      0.05      0.03       151\n",
      "           7       0.01      0.03      0.02        38\n",
      "           8       0.03      0.03      0.03        63\n",
      "           9       0.18      0.16      0.17       702\n",
      "          10       0.00      0.00      0.00        44\n",
      "          11       0.26      0.41      0.32      5727\n",
      "\n",
      "    accuracy                           0.48     30000\n",
      "   macro avg       0.20      0.20      0.20     30000\n",
      "weighted avg       0.53      0.48      0.49     30000\n",
      "\n",
      "Chi-squared score: 26450.774836823148\n",
      "p-value: 0.0 \n",
      "\n",
      "confusion matrix: \n",
      "\n",
      "[[1417   95  731  450    7    1   21    4    1   50    4   45]\n",
      " [ 133 8949  379  255   23    1   77   32    3   82    9 6268]\n",
      " [ 684  228  492  201    5    2   16    4    4   40    1  125]\n",
      " [ 392  241  192  930   30    9   85    7   37  281   10  102]\n",
      " [  14   20   14   37    2    0    3    1    1    9    0    3]\n",
      " [   2    3    0    5    0    0    1    0    0    5    0    0]\n",
      " [  15   23   13   54    2    0    7    5    1   21    0   10]\n",
      " [   5   11    3   13    0    0    1    1    0    4    0    0]\n",
      " [   3    4    3   36    0    0    4    0    2   10    0    1]\n",
      " [  88   80   61  264   13    0   31    4   15  111    5   30]\n",
      " [   3   14    3   11    0    1    1    0    0    5    0    6]\n",
      " [  50 3045  124  106    7    0   12   12    4   16    3 2348]]\n",
      "\n",
      "\n",
      "dAncstry2\n",
      "              precision    recall  f1-score   support\n",
      "\n",
      "           1       0.73      0.63      0.68     21021\n",
      "           2       0.30      0.41      0.35      7292\n",
      "           3       0.15      0.20      0.18       802\n",
      "           4       0.04      0.04      0.04       159\n",
      "           5       0.00      0.00      0.00         7\n",
      "           6       0.00      0.00      0.00         3\n",
      "           7       0.00      0.00      0.00        36\n",
      "           8       0.00      0.00      0.00         5\n",
      "           9       0.00      0.00      0.00         5\n",
      "          10       0.03      0.02      0.03        47\n",
      "          11       0.00      0.00      0.00         5\n",
      "          12       0.15      0.17      0.16       618\n",
      "\n",
      "    accuracy                           0.55     30000\n",
      "   macro avg       0.12      0.12      0.12     30000\n",
      "weighted avg       0.59      0.55      0.57     30000\n",
      "\n",
      "Chi-squared score: 3267.109892065778\n",
      "p-value: 0.0 \n",
      "\n",
      "confusion matrix: \n",
      "\n",
      "[[13244  6664   594   100     7     2    18     2     5    21    10   354]\n",
      " [ 4052  2980   143    11     1     0     6     0     0     1     0    98]\n",
      " [  362   144   164    26     1     0     4     1     0     3     2    95]\n",
      " [   71    29    30     7     0     0     0     0     0     1     0    21]\n",
      " [    3     1     2     0     0     0     0     0     0     0     0     1]\n",
      " [    2     0     1     0     0     0     0     0     0     0     0     0]\n",
      " [   19     3     8     1     0     0     0     0     0     0     0     5]\n",
      " [    1     2     0     0     0     0     0     0     0     0     0     2]\n",
      " [    2     1     2     0     0     0     0     0     0     0     0     0]\n",
      " [   21     3    15     2     0     0     0     0     1     1     0     4]\n",
      " [    3     0     2     0     0     0     0     0     0     0     0     0]\n",
      " [  259   131   104    13     1     0     2     0     0     2     0   106]]\n",
      "\n",
      "\n",
      "iAvail\n",
      "              precision    recall  f1-score   support\n",
      "\n",
      "           0       1.00      1.00      1.00     29049\n",
      "           1       0.00      0.00      0.00        18\n",
      "           2       0.05      0.03      0.04        31\n",
      "           3       0.11      0.11      0.11       122\n",
      "           4       0.78      0.79      0.79       780\n",
      "\n",
      "    accuracy                           0.99     30000\n",
      "   macro avg       0.39      0.38      0.39     30000\n",
      "weighted avg       0.98      0.99      0.99     30000\n",
      "\n",
      "Chi-squared score: 23591.676556712016\n",
      "p-value: 0.0 \n",
      "\n",
      "confusion matrix: \n",
      "\n",
      "[[28937     4    10    16    82]\n",
      " [    8     0     0     1     9]\n",
      " [   16     1     1     2    11]\n",
      " [   34     5     3    13    67]\n",
      " [   71     4     7    82   616]]\n",
      "\n",
      "\n",
      "iCitizen\n",
      "              precision    recall  f1-score   support\n",
      "\n",
      "           0       0.97      0.96      0.96     27403\n",
      "           1       0.06      0.04      0.05       138\n",
      "           2       0.04      0.03      0.04       210\n",
      "           3       0.25      0.29      0.26       912\n",
      "           4       0.45      0.51      0.48      1337\n",
      "\n",
      "    accuracy                           0.91     30000\n",
      "   macro avg       0.35      0.37      0.36     30000\n",
      "weighted avg       0.91      0.91      0.91     30000\n",
      "\n",
      "Chi-squared score: 12861.640663151484\n",
      "p-value: 0.0 \n",
      "\n",
      "confusion matrix: \n",
      "\n",
      "[[26294    30   142   463   474]\n",
      " [   25     6     1    31    75]\n",
      " [  169     1     7    12    21]\n",
      " [  359    16     5   260   272]\n",
      " [  315    47     6   290   679]]\n",
      "\n",
      "\n",
      "iClass\n",
      "              precision    recall  f1-score   support\n",
      "\n",
      "           0       0.98      0.97      0.98     12213\n",
      "           1       0.75      0.73      0.74     11983\n",
      "           2       0.07      0.10      0.08      1093\n",
      "           3       0.23      0.28      0.25      1248\n",
      "           4       0.15      0.13      0.14       822\n",
      "           5       0.20      0.20      0.20       749\n",
      "           6       0.33      0.29      0.31      1275\n",
      "           7       0.15      0.15      0.15       432\n",
      "           8       0.07      0.05      0.06       131\n",
      "           9       0.06      0.07      0.07        54\n",
      "\n",
      "    accuracy                           0.73     30000\n",
      "   macro avg       0.30      0.30      0.30     30000\n",
      "weighted avg       0.74      0.73      0.73     30000\n",
      "\n",
      "Chi-squared score: 36404.962720420386\n",
      "p-value: 0.0 \n",
      "\n",
      "confusion matrix: \n",
      "\n",
      "[[11880   259    13    12     3     5    22     8     6     5]\n",
      " [  119  8782  1061   721   383   329   375   138    27    48]\n",
      " [   11   795   105    53    34    27    49    15     2     2]\n",
      " [    9   539    67   349   146    62    45    20     8     3]\n",
      " [    7   386    48   212   110    25    19    14     1     0]\n",
      " [   10   310    33    84    27   153   100    28     3     1]\n",
      " [   28   472    57    78    23   102   365   113    34     3]\n",
      " [    6   154    18    34     6    44    99    63     8     0]\n",
      " [    6    53     4     5     0     9    33    13     7     1]\n",
      " [    4    30     1     3     0     3     7     1     1     4]]\n",
      "\n",
      "\n",
      "dDepart\n",
      "              precision    recall  f1-score   support\n",
      "\n",
      "           0       0.99      0.99      0.99     16790\n",
      "           1       0.81      0.89      0.85      1146\n",
      "           2       0.96      0.95      0.95      2783\n",
      "           3       0.95      0.92      0.93      4192\n",
      "           4       0.93      0.93      0.93      2866\n",
      "           5       0.91      0.93      0.92      2223\n",
      "\n",
      "    accuracy                           0.96     30000\n",
      "   macro avg       0.93      0.94      0.93     30000\n",
      "weighted avg       0.96      0.96      0.96     30000\n",
      "\n",
      "Chi-squared score: 126472.44646683041\n",
      "p-value: 0.0 \n",
      "\n",
      "confusion matrix: \n",
      "\n",
      "[[16689     2    12     8    15    64]\n",
      " [    3  1024    45    28     1    45]\n",
      " [   13    98  2631    39     0     2]\n",
      " [   14    58    50  3842   181    47]\n",
      " [   44     3     0   112  2672    35]\n",
      " [   32    77     0    30    15  2069]]\n",
      "\n",
      "\n",
      "iDisabl1\n"
     ]
    },
    {
     "name": "stdout",
     "output_type": "stream",
     "text": [
      "              precision    recall  f1-score   support\n",
      "\n",
      "           0       1.00      1.00      1.00      7019\n",
      "           1       0.99      0.96      0.97      3022\n",
      "           2       0.99      1.00      1.00     19959\n",
      "\n",
      "    accuracy                           0.99     30000\n",
      "   macro avg       0.99      0.98      0.99     30000\n",
      "weighted avg       0.99      0.99      0.99     30000\n",
      "\n",
      "Chi-squared score: 58027.1853231113\n",
      "p-value: 0.0 \n",
      "\n",
      "confusion matrix: \n",
      "\n",
      "[[ 7019     0     0]\n",
      " [    0  2888   134]\n",
      " [    2    39 19918]]\n",
      "\n",
      "\n",
      "iDisabl2\n",
      "              precision    recall  f1-score   support\n",
      "\n",
      "           0       1.00      1.00      1.00      7019\n",
      "           1       0.97      0.98      0.97      2003\n",
      "           2       1.00      1.00      1.00     20978\n",
      "\n",
      "    accuracy                           1.00     30000\n",
      "   macro avg       0.99      0.99      0.99     30000\n",
      "weighted avg       1.00      1.00      1.00     30000\n",
      "\n",
      "Chi-squared score: 58344.85851608483\n",
      "p-value: 0.0 \n",
      "\n",
      "confusion matrix: \n",
      "\n",
      "[[ 7018     0     1]\n",
      " [    0  1962    41]\n",
      " [    4    60 20914]]\n",
      "\n",
      "\n",
      "iEnglish\n",
      "              precision    recall  f1-score   support\n",
      "\n",
      "           0       0.96      0.97      0.97     26237\n",
      "           1       0.41      0.43      0.42      2073\n",
      "           2       0.23      0.17      0.20       937\n",
      "           3       0.21      0.23      0.22       532\n",
      "           4       0.24      0.14      0.18       221\n",
      "\n",
      "    accuracy                           0.89     30000\n",
      "   macro avg       0.41      0.39      0.40     30000\n",
      "weighted avg       0.88      0.89      0.89     30000\n",
      "\n",
      "Chi-squared score: 18954.481795574593\n",
      "p-value: 0.0 \n",
      "\n",
      "confusion matrix: \n",
      "\n",
      "[[25493   601    96    44     3]\n",
      " [  694   892   276   184    27]\n",
      " [  191   382   157   167    40]\n",
      " [   52   217   105   125    33]\n",
      " [    6    60    38    85    32]]\n",
      "\n",
      "\n"
     ]
    }
   ],
   "source": [
    "get_performance_scores(test_dedummified,preds_dedummified)"
   ]
  },
  {
   "cell_type": "markdown",
   "metadata": {},
   "source": [
    "All in all, the performance of the model seems acceptable. Some classes which are very scarcely populated are almost never reconstructed correctly, but the accuracy of the reconstruction in each class is fair, with potential improvement with a larger training set and careful parameter tuning."
   ]
  },
  {
   "cell_type": "markdown",
   "metadata": {},
   "source": [
    "# Generation of a new sample and comparison with test set"
   ]
  },
  {
   "cell_type": "markdown",
   "metadata": {},
   "source": [
    "Now we generate synthetic new samples using the generative component of the model. Thus, in the latent space we sample from the Relaxed One Hot Categorical based on the input data, we decode it and reconstruct. \n",
    "We follow the same procedure we followed during the training: we split the output of the last layer of the network into chunks, each of width equal to the number of levels of the variable that is one-hot encoded in the input, and fit a RelaxedOneHotCategorical into each and then convert this into a one hot encoding by taking the largest probability within each chunk with the argmax, which will be the predicted level of the output variable.\n"
   ]
  },
  {
   "cell_type": "code",
   "execution_count": 177,
   "metadata": {},
   "outputs": [],
   "source": [
    "M = len(test_df)*num_dist\n",
    "    \n",
    "test_z = np.zeros((M,latent_dim))  \n",
    "test_z[range(M),np.random.choice(latent_dim,M)] = 1  \n",
    "test_z = np.reshape(test_z,[len(test_df), num_dist, latent_dim])"
   ]
  },
  {
   "cell_type": "code",
   "execution_count": 178,
   "metadata": {},
   "outputs": [
    {
     "data": {
      "text/plain": [
       "array([[[0., 0., 0., ..., 0., 0., 0.],\n",
       "        [0., 0., 0., ..., 1., 0., 0.],\n",
       "        [1., 0., 0., ..., 0., 0., 0.]],\n",
       "\n",
       "       [[0., 0., 0., ..., 0., 0., 0.],\n",
       "        [0., 0., 0., ..., 0., 0., 0.],\n",
       "        [0., 0., 0., ..., 0., 0., 0.]],\n",
       "\n",
       "       [[0., 0., 0., ..., 0., 0., 0.],\n",
       "        [0., 0., 0., ..., 0., 0., 0.],\n",
       "        [0., 1., 0., ..., 0., 0., 0.]],\n",
       "\n",
       "       ...,\n",
       "\n",
       "       [[0., 0., 0., ..., 0., 0., 0.],\n",
       "        [0., 0., 0., ..., 0., 0., 0.],\n",
       "        [0., 0., 0., ..., 0., 0., 0.]],\n",
       "\n",
       "       [[1., 0., 0., ..., 0., 0., 0.],\n",
       "        [0., 0., 0., ..., 0., 0., 0.],\n",
       "        [0., 0., 0., ..., 0., 0., 0.]],\n",
       "\n",
       "       [[0., 0., 0., ..., 0., 0., 0.],\n",
       "        [0., 0., 0., ..., 0., 0., 0.],\n",
       "        [0., 0., 0., ..., 0., 0., 0.]]])"
      ]
     },
     "execution_count": 178,
     "metadata": {},
     "output_type": "execute_result"
    }
   ],
   "source": [
    "test_z"
   ]
  },
  {
   "cell_type": "code",
   "execution_count": 179,
   "metadata": {},
   "outputs": [],
   "source": [
    "M = len(test_df)*num_dist\n",
    "    \n",
    "test_z = np.zeros((M,latent_dim))  \n",
    "test_z[range(M),np.random.choice(latent_dim,M)] = 1  \n",
    "test_z = np.reshape(test_z,[len(test_df), num_dist, latent_dim])\n",
    "z = model.reparameterize(tau, tf.cast(test_z,\"float32\"))\n",
    "logits_x = model.decode(z)\n",
    "test_z = test_z.astype('float32')\n",
    "    # generate sample images from prior (test_z)\n",
    "        \n",
    "sample = tf.concat([RelaxedOneHotCategorical(1, logits=logits_x[:,var_levels[i-1]:var_levels[i]]).sample() \n",
    "                       for i in range(1, len(var_levels))], axis=1)\n",
    "\n",
    "t_o_h_sample = tf.concat([tf.one_hot(tf.argmax(sample[:,var_levels[i-1]:var_levels[i]], axis=-1),\n",
    "                           int(var_levels[i]-var_levels[i-1]))\n",
    "                           for i in range(1, len(var_levels))], axis=1)\n",
    "                          \n",
    "sample=pd.DataFrame(t_o_h_sample.numpy().astype(\"int\"),columns=test_df.columns)"
   ]
  },
  {
   "cell_type": "code",
   "execution_count": 180,
   "metadata": {},
   "outputs": [],
   "source": [
    "ss = sample.apply(lambda x: dedummify(x,aux, var_value_list), axis=1)\n",
    "sample_dedummified=pd.DataFrame(list(ss), columns=all_variables)"
   ]
  },
  {
   "cell_type": "markdown",
   "metadata": {},
   "source": [
    "Now that we've generated the new sample, there comes the question of how to evaluate the goodness of the sample itself. I compare the distributions of the each variable in the test set with those coming from the sample test. Then, I look at the correlations between variables in each dataset. "
   ]
  },
  {
   "cell_type": "code",
   "execution_count": 181,
   "metadata": {},
   "outputs": [
    {
     "data": {
      "image/png": "[encoded data removed]",
      "text/plain": [
       "<Figure size 576x432 with 1 Axes>"
      ]
     },
     "metadata": {
      "needs_background": "light"
     },
     "output_type": "display_data"
    },
    {
     "data": {
      "image/png": "[encoded data removed]",
      "text/plain": [
       "<Figure size 576x432 with 1 Axes>"
      ]
     },
     "metadata": {
      "needs_background": "light"
     },
     "output_type": "display_data"
    },
    {
     "data": {
      "image/png": "[encoded data removed]",
      "text/plain": [
       "<Figure size 576x432 with 1 Axes>"
      ]
     },
     "metadata": {
      "needs_background": "light"
     },
     "output_type": "display_data"
    },
    {
     "data": {
      "image/png": "[encoded data removed]",
      "text/plain": [
       "<Figure size 576x432 with 1 Axes>"
      ]
     },
     "metadata": {
      "needs_background": "light"
     },
     "output_type": "display_data"
    },
    {
     "data": {
      "image/png": "[encoded data removed]",
      "text/plain": [
       "<Figure size 576x432 with 1 Axes>"
      ]
     },
     "metadata": {
      "needs_background": "light"
     },
     "output_type": "display_data"
    },
    {
     "data": {
      "image/png": "[encoded data removed]",
      "text/plain": [
       "<Figure size 576x432 with 1 Axes>"
      ]
     },
     "metadata": {
      "needs_background": "light"
     },
     "output_type": "display_data"
    },
    {
     "data": {
      "image/png": "[encoded data removed]",
      "text/plain": [
       "<Figure size 576x432 with 1 Axes>"
      ]
     },
     "metadata": {
      "needs_background": "light"
     },
     "output_type": "display_data"
    },
    {
     "data": {
      "image/png": "[encoded data removed]",
      "text/plain": [
       "<Figure size 576x432 with 1 Axes>"
      ]
     },
     "metadata": {
      "needs_background": "light"
     },
     "output_type": "display_data"
    },
    {
     "data": {
      "image/png": "[encoded data removed]",
      "text/plain": [
       "<Figure size 576x432 with 1 Axes>"
      ]
     },
     "metadata": {
      "needs_background": "light"
     },
     "output_type": "display_data"
    },
    {
     "data": {
      "image/png": "[encoded data removed]",
      "text/plain": [
       "<Figure size 576x432 with 1 Axes>"
      ]
     },
     "metadata": {
      "needs_background": "light"
     },
     "output_type": "display_data"
    }
   ],
   "source": [
    "for col in all_variables:\n",
    "    plot_table=pd.DataFrame()\n",
    "    plot_table[\"test\"] = test_dedummified[col]\n",
    "    plot_table[\"sample\"] = sample_dedummified[col]\n",
    "    molten=pd.melt(plot_table)\n",
    "    plt.figure(figsize=[8, 6])\n",
    "    sns.countplot(data=molten, hue=\"variable\", x=\"value\")\n",
    "    plt.title(str(col))\n",
    "    plt.legend()\n",
    "    "
   ]
  },
  {
   "cell_type": "code",
   "execution_count": 183,
   "metadata": {},
   "outputs": [
    {
     "data": {
      "text/plain": [
       "<matplotlib.axes._subplots.AxesSubplot at 0x11f4965d408>"
      ]
     },
     "execution_count": 183,
     "metadata": {},
     "output_type": "execute_result"
    },
    {
     "data": {
      "image/png": "[encoded data removed]",
      "text/plain": [
       "<Figure size 432x288 with 2 Axes>"
      ]
     },
     "metadata": {
      "needs_background": "light"
     },
     "output_type": "display_data"
    }
   ],
   "source": [
    "corr = test_dedummified.corr()\n",
    "sns.heatmap(corr, cmap='summer', annot_kws={'size':20})\n",
    "#ax1.set_title(\"Test df Correlation Matrix\", fontsize=10)"
   ]
  },
  {
   "cell_type": "code",
   "execution_count": 185,
   "metadata": {},
   "outputs": [
    {
     "data": {
      "text/plain": [
       "<matplotlib.axes._subplots.AxesSubplot at 0x11f49678688>"
      ]
     },
     "execution_count": 185,
     "metadata": {},
     "output_type": "execute_result"
    },
    {
     "data": {
      "image/png": "[encoded data removed]",
      "text/plain": [
       "<Figure size 432x288 with 2 Axes>"
      ]
     },
     "metadata": {
      "needs_background": "light"
     },
     "output_type": "display_data"
    }
   ],
   "source": [
    "corr_2 = sample_dedummified.corr()\n",
    "sns.heatmap(corr_2, cmap='summer', annot_kws={'size':20})\n",
    "#ax1.set_title(\"Sampled df Correlation Matrix\", fontsize=10)"
   ]
  },
  {
   "cell_type": "code",
   "execution_count": 186,
   "metadata": {
    "scrolled": true
   },
   "outputs": [
    {
     "data": {
      "text/plain": [
       "Text(0.5, 1, 'Difference in correlations')"
      ]
     },
     "execution_count": 186,
     "metadata": {},
     "output_type": "execute_result"
    },
    {
     "data": {
      "image/png": "[encoded data removed]",
      "text/plain": [
       "<Figure size 432x288 with 2 Axes>"
      ]
     },
     "metadata": {
      "needs_background": "light"
     },
     "output_type": "display_data"
    }
   ],
   "source": [
    "ax=sns.heatmap(abs(corr- corr_2), cmap='coolwarm_r', vmin=0, vmax=1, annot_kws={'size':10})\n",
    "ax.set_title(\"Difference in correlations\", fontsize=10)\n"
   ]
  },
  {
   "cell_type": "code",
   "execution_count": 187,
   "metadata": {},
   "outputs": [
    {
     "name": "stdout",
     "output_type": "stream",
     "text": [
      "0.44890324636332224\n"
     ]
    }
   ],
   "source": [
    "print((abs(corr- corr_2).max().max()))"
   ]
  },
  {
   "cell_type": "markdown",
   "metadata": {},
   "source": [
    "The distribution plot show that the model performs better with variables that are more concentrated, that is, that have one or two levels that contain most observations (e.g. dAncestry2) whereas its performance suffers for variables that are more evenly distributed (e.g. dAge). This is expected because the chosen (smaller) sample size, and the fact that the parameters are ot tuned. The temperature parameter could help to better isolate the levels of each variables in an input distribution. \n",
    "\n",
    "Qualitatively the correlation matrices look similar, this can also be seen by looking at the third matrix: for each pair of variables we see that the highest difference in correlations is about 0.26, out of a maximum possible of 1.\n"
   ]
  },
  {
   "cell_type": "markdown",
   "metadata": {},
   "source": [
    "Finally, following [3] we calculate, the frequency of each level of each variable in the test set and in the sample set. We get two vectors of dimension 69 (the number of binary variables after dummification) and compute the MSE between them."
   ]
  },
  {
   "cell_type": "code",
   "execution_count": 188,
   "metadata": {},
   "outputs": [],
   "source": [
    "compute_frequencies= lambda col: (test_df[col].sum()/test_df[col].count(),sample[col].sum()/sample[col].count())\n",
    "scores =  list(map(compute_frequencies, test_df.columns))"
   ]
  },
  {
   "cell_type": "code",
   "execution_count": 189,
   "metadata": {},
   "outputs": [
    {
     "data": {
      "image/png": "[encoded data removed]",
      "text/plain": [
       "<Figure size 432x288 with 1 Axes>"
      ]
     },
     "metadata": {
      "needs_background": "light"
     },
     "output_type": "display_data"
    }
   ],
   "source": [
    "lineStart = 0\n",
    "lineEnd = 1\n",
    "\n",
    "plt.figure()\n",
    "plt.scatter(*zip(*scores), color = 'k', alpha=0.5)\n",
    "plt.plot([lineStart, lineEnd], [lineStart, lineEnd], 'k-', color = 'r')\n",
    "plt.xlim(lineStart, lineEnd)\n",
    "plt.ylim(lineStart, lineEnd)\n",
    "plt.show()"
   ]
  },
  {
   "cell_type": "code",
   "execution_count": 292,
   "metadata": {},
   "outputs": [
    {
     "data": {
      "text/plain": [
       "0.002711347890499194"
      ]
     },
     "execution_count": 292,
     "metadata": {},
     "output_type": "execute_result"
    }
   ],
   "source": [
    "scores_1 = [x[0] for x in scores]\n",
    "scores_2 = [x[1] for x in scores]\n",
    "mean_squared_error(scores_1, scores_2)"
   ]
  },
  {
   "cell_type": "markdown",
   "metadata": {},
   "source": [
    "Possible improvements:\n",
    " - test several methods (as tested in [3]) how the correlation of the variables in the sample set compares to that observed in the test set. \n",
    " One could fit a multiclass classification model (for example Random Forest) on both Test and Sample as training sets (or subsets of them), taking in turn each categorical variable as response and the remaining as predictors (in this example, that would make 10 models per sample). Then one could compare the characteristics of each model (feature importance, performance scores...) and see if corresponding model have similar characteristics.  \n",
    " - tune parameters\n",
    " - experiment different reparametrization tricks, distributions for sampling, ... "
   ]
  }
 ],
 "metadata": {
  "kernelspec": {
   "display_name": "Python 3",
   "language": "python",
   "name": "python3"
  },
  "language_info": {
   "codemirror_mode": {
    "name": "ipython",
    "version": 3
   },
   "file_extension": ".py",
   "mimetype": "text/x-python",
   "name": "python",
   "nbconvert_exporter": "python",
   "pygments_lexer": "ipython3",
   "version": "3.7.4"
  }
 },
 "nbformat": 4,
 "nbformat_minor": 2
}
